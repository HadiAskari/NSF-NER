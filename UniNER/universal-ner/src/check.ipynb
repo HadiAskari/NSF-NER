{
 "cells": [
  {
   "cell_type": "code",
   "execution_count": null,
   "metadata": {},
   "outputs": [],
   "source": [
    "import json\n",
    "import pandas as pd\n",
    "import re\n",
    "from tqdm.auto import tqdm\n",
    "from ast import literal_eval"
   ]
  },
  {
   "cell_type": "code",
   "execution_count": null,
   "metadata": {},
   "outputs": [],
   "source": [
    "with open('hackerNews_updated.json', 'r') as f:\n",
    "    file=json.load(f)"
   ]
  },
  {
   "cell_type": "code",
   "execution_count": null,
   "metadata": {},
   "outputs": [],
   "source": [
    "file['4']['content']"
   ]
  },
  {
   "cell_type": "code",
   "execution_count": null,
   "metadata": {},
   "outputs": [],
   "source": [
    "def remove_between_tags(text):\n",
    "    # Remove everything between < and > including the symbols\n",
    "    text = re.sub(r'<.*?>', '', text)\n",
    "    # Remove any extra spaces\n",
    "    text = re.sub(r'\\s+', ' ', text).strip()\n",
    "    return text"
   ]
  },
  {
   "cell_type": "code",
   "execution_count": null,
   "metadata": {},
   "outputs": [],
   "source": [
    "for items in tqdm(file.keys()):\n",
    "    content_list=file[items]['content']\n",
    "    temp=[]\n",
    "    for sentences in content_list:\n",
    "        fixed=remove_between_tags(sentences)\n",
    "        if fixed is not None:\n",
    "            temp.append(remove_between_tags(sentences))\n",
    "    file[items]['fixed_content']=temp"
   ]
  },
  {
   "cell_type": "code",
   "execution_count": null,
   "metadata": {},
   "outputs": [],
   "source": [
    "file['30']['fixed_content']"
   ]
  },
  {
   "cell_type": "code",
   "execution_count": null,
   "metadata": {},
   "outputs": [],
   "source": [
    "text_100=[]\n",
    "count=0\n",
    "for items in tqdm(file.keys()):\n",
    "    count+=1\n",
    "    if count==101:\n",
    "        break\n",
    "    text_100.append(file[items]['fixed_content'])\n",
    "# {'text':}"
   ]
  },
  {
   "cell_type": "code",
   "execution_count": null,
   "metadata": {},
   "outputs": [],
   "source": [
    "len(text_100)"
   ]
  },
  {
   "cell_type": "code",
   "execution_count": null,
   "metadata": {},
   "outputs": [],
   "source": [
    "text_100[50]"
   ]
  },
  {
   "cell_type": "code",
   "execution_count": null,
   "metadata": {},
   "outputs": [],
   "source": [
    "dic={'text':text_100}\n",
    "df=pd.DataFrame.from_dict(dic)\n",
    "df.to_csv('Hacker_100.csv', index=False)"
   ]
  },
  {
   "cell_type": "code",
   "execution_count": null,
   "metadata": {},
   "outputs": [],
   "source": [
    "df=pd.read_csv('../Hacker_100.csv')\n",
    "\n",
    "text_list=[]\n",
    "\n",
    "for items in df.itertuples():\n",
    "    print(items[1])\n",
    "    text_list.append(literal_eval(items[1]))\n",
    "    "
   ]
  },
  {
   "cell_type": "code",
   "execution_count": null,
   "metadata": {},
   "outputs": [],
   "source": [
    "len(text_list)"
   ]
  },
  {
   "cell_type": "code",
   "execution_count": null,
   "metadata": {},
   "outputs": [],
   "source": [
    "len(text_list[0])"
   ]
  },
  {
   "cell_type": "code",
   "execution_count": null,
   "metadata": {},
   "outputs": [],
   "source": [
    "df.head()"
   ]
  },
  {
   "cell_type": "code",
   "execution_count": null,
   "metadata": {},
   "outputs": [],
   "source": [
    "len(text_list[2])"
   ]
  },
  {
   "cell_type": "code",
   "execution_count": null,
   "metadata": {},
   "outputs": [],
   "source": [
    "text_list[2]"
   ]
  },
  {
   "cell_type": "code",
   "execution_count": null,
   "metadata": {},
   "outputs": [],
   "source": [
    "df=pd.read_csv('../Hacker_100.csv')"
   ]
  },
  {
   "cell_type": "code",
   "execution_count": null,
   "metadata": {},
   "outputs": [],
   "source": [
    "df.head()"
   ]
  },
  {
   "cell_type": "code",
   "execution_count": null,
   "metadata": {},
   "outputs": [],
   "source": [
    "software_list=[]\n",
    "\n",
    "for items in df.itertuples():\n",
    "    print(items[2])\n",
    "    software_list.append(literal_eval(items[2]))\n",
    "    "
   ]
  },
  {
   "cell_type": "code",
   "execution_count": null,
   "metadata": {},
   "outputs": [],
   "source": [
    "software_set=[]\n",
    "for items in software_list:\n",
    "    temp=[]\n",
    "    for it in items:\n",
    "        for i in it:\n",
    "            print(i)\n",
    "            if i is not None:\n",
    "                temp.append(i)\n",
    "    temp=list(set(temp))\n",
    "    software_set.append(temp)"
   ]
  },
  {
   "cell_type": "code",
   "execution_count": null,
   "metadata": {},
   "outputs": [],
   "source": [
    "software_set"
   ]
  },
  {
   "cell_type": "code",
   "execution_count": null,
   "metadata": {},
   "outputs": [],
   "source": [
    "hardware_list=[]\n",
    "\n",
    "for items in df.itertuples():\n",
    "    print(items[3])\n",
    "    hardware_list.append(literal_eval(items[3]))"
   ]
  },
  {
   "cell_type": "code",
   "execution_count": null,
   "metadata": {},
   "outputs": [],
   "source": [
    "hardware_set=[]\n",
    "for items in hardware_list:\n",
    "    temp=[]\n",
    "    for it in items:\n",
    "        for i in it:\n",
    "            print(i)\n",
    "            if i is not None:\n",
    "                temp.append(i)\n",
    "    temp=list(set(temp))\n",
    "    hardware_set.append(temp)"
   ]
  },
  {
   "cell_type": "code",
   "execution_count": null,
   "metadata": {},
   "outputs": [],
   "source": [
    "hardware_set"
   ]
  },
  {
   "cell_type": "code",
   "execution_count": null,
   "metadata": {},
   "outputs": [],
   "source": [
    "vulnerability_list=[]\n",
    "\n",
    "for items in df.itertuples():\n",
    "    print(items[3])\n",
    "    vulnerability_list.append(literal_eval(items[4]))"
   ]
  },
  {
   "cell_type": "code",
   "execution_count": null,
   "metadata": {},
   "outputs": [],
   "source": [
    "vulnerability_set=[]\n",
    "for items in vulnerability_list:\n",
    "    temp=[]\n",
    "    for it in items:\n",
    "        for i in it:\n",
    "            #print(i)\n",
    "            if i is not None:\n",
    "                temp.append(i)\n",
    "    temp=list(set(temp))\n",
    "    vulnerability_set.append(temp)"
   ]
  },
  {
   "cell_type": "code",
   "execution_count": null,
   "metadata": {},
   "outputs": [],
   "source": [
    "vulnerability_set"
   ]
  },
  {
   "cell_type": "code",
   "execution_count": null,
   "metadata": {},
   "outputs": [],
   "source": [
    "df.columns"
   ]
  },
  {
   "cell_type": "code",
   "execution_count": null,
   "metadata": {},
   "outputs": [],
   "source": [
    "df['Software']=software_set\n",
    "df['Hardware']=hardware_set\n",
    "df['Vulnerability']=vulnerability_set"
   ]
  },
  {
   "cell_type": "code",
   "execution_count": null,
   "metadata": {},
   "outputs": [],
   "source": [
    "df.head()"
   ]
  },
  {
   "cell_type": "code",
   "execution_count": null,
   "metadata": {},
   "outputs": [],
   "source": [
    "df.to_csv(\"../Hacker_100.csv\",index=False)"
   ]
  },
  {
   "cell_type": "code",
   "execution_count": 12,
   "metadata": {},
   "outputs": [],
   "source": [
    "import json\n",
    "\n",
    "# Open the JSON file\n",
    "with open('train/train-vulnerabilty.json', 'r') as file:\n",
    "    # Load the JSON content\n",
    "    data = json.load(file)\n",
    "\n",
    "# Get the keys of the JSON object\n",
    "# keys = data.keys()\n",
    "\n",
    "# # Print the keys\n",
    "# print(\"Keys:\", keys[0])\n"
   ]
  },
  {
   "cell_type": "code",
   "execution_count": 13,
   "metadata": {},
   "outputs": [
    {
     "data": {
      "text/plain": [
       "9054"
      ]
     },
     "execution_count": 13,
     "metadata": {},
     "output_type": "execute_result"
    }
   ],
   "source": [
    "len(data)"
   ]
  },
  {
   "cell_type": "code",
   "execution_count": 9,
   "metadata": {},
   "outputs": [],
   "source": [
    "# data=data[0:100000]"
   ]
  },
  {
   "cell_type": "code",
   "execution_count": 10,
   "metadata": {},
   "outputs": [],
   "source": [
    "with open('train/train_hardware_smaller.json', 'w') as file:\n",
    "    # Load the JSON content\n",
    "   json.dump(data,file)\n"
   ]
  },
  {
   "cell_type": "code",
   "execution_count": null,
   "metadata": {},
   "outputs": [],
   "source": []
  }
 ],
 "metadata": {
  "kernelspec": {
   "display_name": "influence",
   "language": "python",
   "name": "python3"
  },
  "language_info": {
   "codemirror_mode": {
    "name": "ipython",
    "version": 3
   },
   "file_extension": ".py",
   "mimetype": "text/x-python",
   "name": "python",
   "nbconvert_exporter": "python",
   "pygments_lexer": "ipython3",
   "version": "3.11.7"
  }
 },
 "nbformat": 4,
 "nbformat_minor": 2
}
