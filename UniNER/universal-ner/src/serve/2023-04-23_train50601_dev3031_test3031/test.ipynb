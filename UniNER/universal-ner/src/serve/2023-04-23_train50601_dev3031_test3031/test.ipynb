{
 "cells": [
  {
   "cell_type": "code",
   "execution_count": null,
   "metadata": {},
   "outputs": [],
   "source": [
    "import pandas as pd\n",
    "import csv\n",
    "from tqdm.auto import tqdm"
   ]
  },
  {
   "cell_type": "code",
   "execution_count": null,
   "metadata": {},
   "outputs": [
    {
     "name": "stdout",
     "output_type": "stream",
     "text": [
      "['<s>']\n",
      "['For', 'O']\n",
      "['example', 'O']\n",
      "[',', 'O']\n",
      "['for', 'O']\n",
      "['the', 'O']\n",
      "['array', 'B-Data_Structure']\n",
      "['of', 'O']\n",
      "['values', 'O']\n",
      "['[', 'O']\n",
      "['2', 'O']\n",
      "[',', 'O']\n",
      "['1', 'O']\n",
      "[',', 'O']\n",
      "['3', 'O']\n",
      "[',', 'O']\n",
      "['4', 'O']\n",
      "[',', 'O']\n",
      "['1', 'O']\n",
      "[',', 'O']\n",
      "['2', 'O']\n",
      "[',', 'O']\n",
      "['1', 'O']\n",
      "[',', 'O']\n",
      "['5', 'O']\n",
      "[',', 'O']\n",
      "['4 ]', 'O']\n",
      "[',', 'O']\n",
      "['the', 'O']\n",
      "['contiguous', 'O']\n",
      "['subarray', 'O']\n",
      "['with', 'O']\n",
      "['the', 'O']\n",
      "['largest', 'O']\n",
      "['sum', 'O']\n",
      "['is', 'O']\n",
      "['[', 'O']\n",
      "['4', 'O']\n",
      "[',', 'O']\n",
      "['1', 'O']\n",
      "[',', 'O']\n",
      "['2', 'O']\n",
      "[',', 'O']\n",
      "['1 ]', 'O']\n",
      "[',', 'O']\n",
      "['with', 'O']\n",
      "['sum', 'O']\n",
      "['6', 'O']\n",
      "['.', 'O']\n",
      "['</s>']\n"
     ]
    }
   ],
   "source": [
    "sentences=[]\n",
    "entities=[]\n",
    "entity_types=[]\n",
    "with open(\"test.txt\") as tsv:\n",
    "    count=0\n",
    "    temp_sent=[]\n",
    "    temp_entities=[]\n",
    "    temp_types=[]\n",
    "    for line in csv.reader(tsv, delimiter=\"\\t\"):\n",
    "        # print(line)\n",
    "        # count+=1\n",
    "        # if count==50:\n",
    "        #     break\n",
    "        \n",
    "        if line[0]=='<s>':\n",
    "            continue\n",
    "        elif line[0]=='</s>':\n",
    "            sentences.append(\" \".join(temp_sent))\n",
    "            entities.append(temp_entities)\n",
    "            entity_types.append(temp_types)\n",
    "            temp_sent=[]\n",
    "            temp_entities=[]\n",
    "            temp_types=[]\n",
    "        else:\n",
    "            temp_sent.append(line[0])\n",
    "            if line[1] != 'O':\n",
    "                temp_entities.append(line[0])\n",
    "                temp_types.append(line[1])\n",
    "            \n",
    "            \n",
    "            "
   ]
  },
  {
   "cell_type": "code",
   "execution_count": 4,
   "metadata": {},
   "outputs": [],
   "source": [
    "df=pd.read_csv('test.txt', sep='\\t')"
   ]
  },
  {
   "cell_type": "code",
   "execution_count": 8,
   "metadata": {},
   "outputs": [
    {
     "data": {
      "text/plain": [
       "Index(['<s>'], dtype='object')"
      ]
     },
     "execution_count": 8,
     "metadata": {},
     "output_type": "execute_result"
    }
   ],
   "source": [
    "df.columns"
   ]
  },
  {
   "cell_type": "code",
   "execution_count": null,
   "metadata": {},
   "outputs": [],
   "source": []
  }
 ],
 "metadata": {
  "kernelspec": {
   "display_name": "ner",
   "language": "python",
   "name": "python3"
  },
  "language_info": {
   "codemirror_mode": {
    "name": "ipython",
    "version": 3
   },
   "file_extension": ".py",
   "mimetype": "text/x-python",
   "name": "python",
   "nbconvert_exporter": "python",
   "pygments_lexer": "ipython3",
   "version": "3.12.0"
  }
 },
 "nbformat": 4,
 "nbformat_minor": 2
}
