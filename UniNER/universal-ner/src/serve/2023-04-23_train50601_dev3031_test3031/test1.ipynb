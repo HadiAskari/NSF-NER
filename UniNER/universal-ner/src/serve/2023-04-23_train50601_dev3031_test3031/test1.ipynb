{
 "cells": [
  {
   "cell_type": "code",
   "execution_count": null,
   "metadata": {},
   "outputs": [],
   "source": [
    "import pandas as pd\n",
    "import csv\n",
    "from tqdm.auto import tqdm"
   ]
  },
  {
   "cell_type": "code",
   "execution_count": null,
   "metadata": {},
   "outputs": [],
   "source": [
    "sentences=[]\n",
    "entities=[]\n",
    "entity_types=[]\n",
    "with open(\"test.txt\") as tsv:\n",
    "    count=0\n",
    "    temp_sent=[]\n",
    "    temp_entities=[]\n",
    "    temp_types=[]\n",
    "    for line in csv.reader(tsv, delimiter=\"\\t\"):\n",
    "        # print(line)\n",
    "        # count+=1\n",
    "        # if count==50:\n",
    "        #     break\n",
    "        \n",
    "        if line[0]=='<s>':\n",
    "            continue\n",
    "        elif line[0]=='</s>':\n",
    "            sentences.append(\" \".join(temp_sent))\n",
    "            entities.append(temp_entities)\n",
    "            entity_types.append(temp_types)\n",
    "            temp_sent=[]\n",
    "            temp_entities=[]\n",
    "            temp_types=[]\n",
    "        else:\n",
    "            temp_sent.append(line[0])\n",
    "            if line[1] != 'O':\n",
    "                temp_entities.append(line[0])\n",
    "                temp_types.append(line[1])\n",
    "            \n",
    "            \n",
    "            "
   ]
  },
  {
   "cell_type": "code",
   "execution_count": null,
   "metadata": {},
   "outputs": [],
   "source": [
    "sentences[0:10]"
   ]
  },
  {
   "cell_type": "code",
   "execution_count": null,
   "metadata": {},
   "outputs": [],
   "source": [
    "entities[0:10]"
   ]
  },
  {
   "cell_type": "code",
   "execution_count": null,
   "metadata": {},
   "outputs": [],
   "source": [
    "entity_types[0:10]"
   ]
  },
  {
   "cell_type": "code",
   "execution_count": null,
   "metadata": {},
   "outputs": [],
   "source": [
    "new_entity_types=[]\n",
    "new_entities=[]\n",
    "for i in tqdm(range(len(entity_types))):\n",
    "    old_entities=entities[i]\n",
    "    old_types=entity_types[i]\n",
    "    new_ent=[]\n",
    "    new_type=[]\n",
    "    for j in len(old_entities):\n",
    "        if old_types[j][0]=='B':\n",
    "            new_ent.append(old_entities[j])\n",
    "            new_type.append(old_types[j].split('-')[1])\n",
    "        elif old_types[j][0]=='I':\n",
    "            new_ent[-1]=new_ent[-1] + \" \" + old_entities[j]\n",
    "    new_entities.append(new_ent)\n",
    "    new_entity_types.append(new_type)\n",
    "        "
   ]
  }
 ],
 "metadata": {
  "kernelspec": {
   "display_name": "ner",
   "language": "python",
   "name": "python3"
  },
  "language_info": {
   "codemirror_mode": {
    "name": "ipython",
    "version": 3
   },
   "file_extension": ".py",
   "mimetype": "text/x-python",
   "name": "python",
   "nbconvert_exporter": "python",
   "pygments_lexer": "ipython3",
   "version": "3.12.0"
  }
 },
 "nbformat": 4,
 "nbformat_minor": 2
}
