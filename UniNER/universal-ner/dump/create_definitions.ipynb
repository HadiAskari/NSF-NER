{
 "cells": [
  {
   "cell_type": "code",
   "execution_count": 1,
   "metadata": {},
   "outputs": [],
   "source": [
    "import pandas as pd\n",
    "import pickle as pkl\n",
    "from ast import literal_eval"
   ]
  },
  {
   "cell_type": "code",
   "execution_count": 3,
   "metadata": {},
   "outputs": [],
   "source": [
    "df=pd.read_csv('test_dataset.csv')"
   ]
  },
  {
   "cell_type": "code",
   "execution_count": 5,
   "metadata": {},
   "outputs": [],
   "source": [
    "check=df['entity_types'].to_list()"
   ]
  },
  {
   "cell_type": "code",
   "execution_count": 21,
   "metadata": {},
   "outputs": [],
   "source": [
    "list_of_entities=[]\n",
    "for item in check:\n",
    "    mini_list=literal_eval(item)\n",
    "    # print(mini_list)\n",
    "    for new_item in mini_list:\n",
    "        list_of_entities.append(new_item)\n",
    "        \n",
    "\n",
    "list_of_entities=list(set(list_of_entities))"
   ]
  },
  {
   "cell_type": "code",
   "execution_count": 22,
   "metadata": {},
   "outputs": [
    {
     "data": {
      "text/plain": [
       "['Library',\n",
       " 'Language',\n",
       " 'General_Concept',\n",
       " 'License',\n",
       " 'Architecture',\n",
       " 'Algorithm',\n",
       " 'Device',\n",
       " 'Protocol',\n",
       " 'Operating_System',\n",
       " 'Error_Name',\n",
       " 'Data_Structure',\n",
       " 'Application']"
      ]
     },
     "execution_count": 22,
     "metadata": {},
     "output_type": "execute_result"
    }
   ],
   "source": [
    "list_of_entities"
   ]
  },
  {
   "cell_type": "code",
   "execution_count": 9,
   "metadata": {},
   "outputs": [],
   "source": [
    "from transformers import AutoTokenizer, AutoModelForTokenClassification, AutoConfig, AutoModel\n",
    "from transformers import pipeline\n",
    "import pandas as pd \n",
    "from tqdm.auto import tqdm\n",
    "from ast import literal_eval\n",
    "import torch\n",
    "from collections import OrderedDict\n",
    "\n",
    "\n",
    "def define():\n",
    "    tokenizer = AutoTokenizer.from_pretrained(\"taidng/wikiser-bert-base\")\n",
    "    model = AutoModelForTokenClassification.from_pretrained(\"taidng/wikiser-bert-base\")\n",
    "    # tokenizer = AutoTokenizer.from_pretrained(\n",
    "    #     'bert-large-cased',\n",
    "    #     padding='max_length',\n",
    "    #     truncation=True,\n",
    "    # )\n",
    "    # config = AutoConfig.from_pretrained('bert-large-cased', num_labels=2)\n",
    "    # model = AutoModelForTokenClassification.from_pretrained('bert-large-cased')\n",
    "    # weights=torch.load('/home/hadi/Purdue/NER/software_entity_recognition/training/model/model_epoch_5.pt')\n",
    "    # new_weights=OrderedDict()\n",
    "    # for k,v in weights.items():\n",
    "    #     k=k.replace('models.0.model.','')\n",
    "    #     if k in [\"models.0.classifier.weight\", \"models.0.classifier.bias\", \"embeddings.position_ids\"]:\n",
    "    #         continue\n",
    "    #     new_weights[k]=v\n",
    "    # model.load_state_dict(new_weights)\n",
    "    nlp = pipeline(\"ner\", model=model, tokenizer=tokenizer, device=0)\n",
    "    \n",
    "    return nlp"
   ]
  },
  {
   "cell_type": "code",
   "execution_count": 10,
   "metadata": {},
   "outputs": [],
   "source": [
    "nlp=define()"
   ]
  },
  {
   "cell_type": "code",
   "execution_count": 11,
   "metadata": {},
   "outputs": [],
   "source": [
    "def infer(nlp, text):\n",
    "    \n",
    "    ner_results = nlp(text)\n",
    "    # print(ner_results)\n",
    "    words=[]\n",
    "    for k,ent in enumerate(ner_results):\n",
    "        if k==0:\n",
    "            words.append(ent['word'])\n",
    "        elif ent['entity'].startswith('B-') and k!=0 and not ent['word'].startswith('#'):\n",
    "            words.append(ent['word'])\n",
    "        else:\n",
    "            if ent['word'].startswith('#'):\n",
    "                temp=ent['word'].strip('#')\n",
    "                # print(temp)\n",
    "                words[-1]=words[-1] + \"\" + temp\n",
    "            else:\n",
    "                words[-1]=words[-1] + \" \" + ent['word']\n",
    "    # print(words)\n",
    "    return words"
   ]
  },
  {
   "cell_type": "code",
   "execution_count": 12,
   "metadata": {},
   "outputs": [
    {
     "data": {
      "text/plain": [
       "['##uy']"
      ]
     },
     "execution_count": 12,
     "metadata": {},
     "output_type": "execute_result"
    }
   ],
   "source": [
    "infer(nlp,\"Seeuyuh\")"
   ]
  }
 ],
 "metadata": {
  "kernelspec": {
   "display_name": "pytorch",
   "language": "python",
   "name": "python3"
  },
  "language_info": {
   "codemirror_mode": {
    "name": "ipython",
    "version": 3
   },
   "file_extension": ".py",
   "mimetype": "text/x-python",
   "name": "python",
   "nbconvert_exporter": "python",
   "pygments_lexer": "ipython3",
   "version": "3.10.12"
  }
 },
 "nbformat": 4,
 "nbformat_minor": 2
}
